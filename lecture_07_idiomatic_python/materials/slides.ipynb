{
 "cells": [
  {
   "cell_type": "code",
   "execution_count": 1,
   "metadata": {},
   "outputs": [],
   "source": [
    "from string import ascii_letters"
   ]
  },
  {
   "cell_type": "code",
   "execution_count": 5,
   "metadata": {},
   "outputs": [
    {
     "name": "stdout",
     "output_type": "stream",
     "text": [
      "1.2 µs ± 42.8 ns per loop (mean ± std. dev. of 7 runs, 1000000 loops each)\n"
     ]
    }
   ],
   "source": [
    "%%timeit\n",
    "s = \" \".join(ascii_letters)"
   ]
  },
  {
   "cell_type": "code",
   "execution_count": null,
   "metadata": {},
   "outputs": [],
   "source": [
    "%%timeit\n",
    "s = \"\"\n",
    "for l in ascii_letters:\n",
    "    s += l"
   ]
  },
  {
   "cell_type": "markdown",
   "metadata": {
    "slideshow": {
     "slide_type": "slide"
    }
   },
   "source": [
    "# Idiomatic python"
   ]
  },
  {
   "cell_type": "markdown",
   "metadata": {
    "slideshow": {
     "slide_type": "subslide"
    }
   },
   "source": [
    "### PEP 20\n",
    "Zen of Python"
   ]
  },
  {
   "cell_type": "code",
   "execution_count": null,
   "metadata": {},
   "outputs": [],
   "source": [
    "import this"
   ]
  },
  {
   "cell_type": "markdown",
   "metadata": {
    "slideshow": {
     "slide_type": "subslide"
    }
   },
   "source": [
    "> **Idiomatic Python** is what you write when the only thing you’re struggling with is the right way to solve your \n",
    "> problem, and you’re not struggling with the programming language or some weird library error or a nasty data \n",
    "> retrieval issue or something else extraneous to your real problem. The idioms you prefer may differ from the \n",
    "> idioms I prefer, but with Python there will be a fair amount of overlap, because there is usually at most one \n",
    "> obvious way to do every task. (A caveat: “obvious” is unfortunately the eye of the beholder, to some extent.)"
   ]
  },
  {
   "cell_type": "code",
   "execution_count": null,
   "metadata": {
    "scrolled": true,
    "slideshow": {
     "slide_type": "slide"
    }
   },
   "outputs": [],
   "source": [
    "for i in [0,1,2,3,4,5]:\n",
    "    print(i, end=\" \")"
   ]
  },
  {
   "cell_type": "code",
   "execution_count": null,
   "metadata": {
    "slideshow": {
     "slide_type": "fragment"
    }
   },
   "outputs": [],
   "source": [
    "for i in range(6):\n",
    "    print(i, end=\" \")\n",
    "for i in r: \n",
    "    print(i)"
   ]
  },
  {
   "cell_type": "markdown",
   "metadata": {
    "slideshow": {
     "slide_type": "fragment"
    }
   },
   "source": [
    "__What about memory?__"
   ]
  },
  {
   "cell_type": "code",
   "execution_count": null,
   "metadata": {
    "slideshow": {
     "slide_type": "fragment"
    }
   },
   "outputs": [],
   "source": [
    "import sys\n",
    "print(sys.getsizeof(range(1_000_000)), \"bytes\")\n",
    "print(sys.getsizeof([i for i in range(1_000_000)]), \"bytes\")"
   ]
  },
  {
   "cell_type": "markdown",
   "metadata": {
    "slideshow": {
     "slide_type": "slide"
    }
   },
   "source": [
    "### One more common example"
   ]
  },
  {
   "cell_type": "code",
   "execution_count": null,
   "metadata": {},
   "outputs": [],
   "source": [
    "# Typical C/C++ programming\n",
    "colors = [\"red\", \"green\", \"blue\", \"yellow\"]\n",
    "for i in range(len(colors)): \n",
    "    print(colors[i], end=\" \")"
   ]
  },
  {
   "cell_type": "markdown",
   "metadata": {
    "slideshow": {
     "slide_type": "fragment"
    }
   },
   "source": [
    "__Much better. Looks nice. Easy to read.__"
   ]
  },
  {
   "cell_type": "code",
   "execution_count": null,
   "metadata": {
    "slideshow": {
     "slide_type": "-"
    }
   },
   "outputs": [],
   "source": [
    "# We have \"for each\" here\n",
    "colors = [\"red\", \"green\", \"blue\", \"yellow\"]\n",
    "for color in colors:\n",
    "    print(color, end=\" \")"
   ]
  },
  {
   "cell_type": "markdown",
   "metadata": {
    "slideshow": {
     "slide_type": "slide"
    }
   },
   "source": [
    "### Looping backwards"
   ]
  },
  {
   "cell_type": "code",
   "execution_count": null,
   "metadata": {},
   "outputs": [],
   "source": [
    "# Bad\n",
    "colors = [\"red\", \"green\", \"blue\", \"yellow\"]\n",
    "for i in range(len(colors)-1, -1, -1):\n",
    "    print(colors[i], end=\" \")"
   ]
  },
  {
   "cell_type": "code",
   "execution_count": null,
   "metadata": {
    "slideshow": {
     "slide_type": "fragment"
    }
   },
   "outputs": [],
   "source": [
    "# A little bit better\n",
    "colors = [\"red\", \"green\", \"blue\", \"yellow\"]\n",
    "for color in colors[::-1]:\n",
    "    print(color, end=\" \")"
   ]
  },
  {
   "cell_type": "code",
   "execution_count": null,
   "metadata": {
    "slideshow": {
     "slide_type": "fragment"
    }
   },
   "outputs": [],
   "source": [
    "# The bestest\n",
    "colors = [\"red\", \"green\", \"blue\", \"yellow\"]\n",
    "for color in reversed(colors):\n",
    "    print(color, end=\" \")"
   ]
  },
  {
   "cell_type": "code",
   "execution_count": null,
   "metadata": {
    "slideshow": {
     "slide_type": "fragment"
    }
   },
   "outputs": [],
   "source": [
    "print(type(reversed(colors)))\n",
    "\n",
    "print(sys.getsizeof(colors[::-1]))\n",
    "print(sys.getsizeof(reversed(colors)))"
   ]
  },
  {
   "cell_type": "markdown",
   "metadata": {
    "slideshow": {
     "slide_type": "slide"
    }
   },
   "source": [
    "### One of my favourite. Looping over collection and indicies"
   ]
  },
  {
   "cell_type": "code",
   "execution_count": null,
   "metadata": {},
   "outputs": [],
   "source": [
    "# Bad\n",
    "colors = [\"red\", \"green\", \"blue\", \"yellow\"]\n",
    "for i in range(len(colors)):\n",
    "    print(i, \"-->\", colors[i])"
   ]
  },
  {
   "cell_type": "code",
   "execution_count": null,
   "metadata": {
    "slideshow": {
     "slide_type": "fragment"
    }
   },
   "outputs": [],
   "source": [
    "# Good\n",
    "for i, color in enumerate(colors):\n",
    "    print(i, \"-->\", color) "
   ]
  },
  {
   "cell_type": "code",
   "execution_count": null,
   "metadata": {
    "pycharm": {
     "name": "#%%\n"
    },
    "slideshow": {
     "slide_type": "fragment"
    }
   },
   "outputs": [],
   "source": [
    "for i, color in enumerate(colors, start=42):\n",
    "    print(i, \"-->\", color)"
   ]
  },
  {
   "cell_type": "markdown",
   "metadata": {
    "slideshow": {
     "slide_type": "slide"
    }
   },
   "source": [
    "### Looping over two (or more) collections"
   ]
  },
  {
   "cell_type": "markdown",
   "metadata": {},
   "source": [
    "__Same length__"
   ]
  },
  {
   "cell_type": "code",
   "execution_count": null,
   "metadata": {},
   "outputs": [],
   "source": [
    "# Not pythonic at all\n",
    "names = [\"Alex\", \"Kate\", \"Daniel\", \"Rachel\"]\n",
    "surnames = [\"Black\", \"White\", \"Brown\", \"Pink\"]\n",
    "for i in range(len(names)):\n",
    "    print(names[i], surname[i])"
   ]
  },
  {
   "cell_type": "code",
   "execution_count": null,
   "metadata": {
    "slideshow": {
     "slide_type": "fragment"
    }
   },
   "outputs": [],
   "source": [
    "# Pythonic way\n",
    "names = [\"Alex\", \"Kate\", \"Daniel\", \"Rachel\"]\n",
    "surnames = [\"Black\", \"White\", \"Brown\", \"Pink\"]\n",
    "for name, surname in zip(names, surnames):\n",
    "    print(name, surname)\n",
    "print(list(zip(names, surnames)))"
   ]
  },
  {
   "cell_type": "markdown",
   "metadata": {
    "slideshow": {
     "slide_type": "slide"
    }
   },
   "source": [
    "__Different length__"
   ]
  },
  {
   "cell_type": "code",
   "execution_count": null,
   "metadata": {},
   "outputs": [],
   "source": [
    "names = [\"Alex\", \"Kate\", \"Daniel\", \"Rachel\"]\n",
    "surname = [\"Black\", \"White\"]\n",
    "for name, surname in zip(names, surname):\n",
    "    print(name, surname)"
   ]
  },
  {
   "cell_type": "markdown",
   "metadata": {
    "slideshow": {
     "slide_type": "fragment"
    }
   },
   "source": [
    "`itertools` __is your friend!__ [docs](https://docs.python.org/3/library/itertools.html)"
   ]
  },
  {
   "cell_type": "code",
   "execution_count": null,
   "metadata": {
    "slideshow": {
     "slide_type": "fragment"
    }
   },
   "outputs": [],
   "source": [
    "from itertools import zip_longest\n",
    "names = [\"Alex\", \"Kate\", \"Daniel\", \"Rachel\"]\n",
    "surname = [\"Black\", \"White\"]\n",
    "for name, surname in zip_longest(names, surname):\n",
    "    print(name, surname)"
   ]
  },
  {
   "cell_type": "code",
   "execution_count": null,
   "metadata": {},
   "outputs": [],
   "source": [
    "from itertools import zip_longest\n",
    "names = [\"Alex\", \"Kate\", \"Daniel\", \"Rachel\"]\n",
    "surname = [\"Black\", \"White\"]\n",
    "for name, surname in zip_longest(names, surname, fillvalue=\"----\"):\n",
    "    print(name, surname)"
   ]
  },
  {
   "cell_type": "markdown",
   "metadata": {
    "slideshow": {
     "slide_type": "slide"
    }
   },
   "source": [
    "### Multiple exit points in loops"
   ]
  },
  {
   "cell_type": "markdown",
   "metadata": {},
   "source": [
    "__What's wrong with this code?__"
   ]
  },
  {
   "cell_type": "code",
   "execution_count": null,
   "metadata": {},
   "outputs": [],
   "source": [
    "def find(seq, target):\n",
    "    found = False\n",
    "    for i, value in enumerate(seq):\n",
    "        if value == target:\n",
    "            found = True\n",
    "            break\n",
    "    if not found:\n",
    "        return -1\n",
    "    else:\n",
    "        return i\n",
    "numbers = [8,1,59,2,9,3,54,76,7]\n",
    "print(find(numbers, 2))"
   ]
  },
  {
   "cell_type": "code",
   "execution_count": null,
   "metadata": {
    "slideshow": {
     "slide_type": "subslide"
    }
   },
   "outputs": [],
   "source": [
    "# A bit of refactoring  \n",
    "def find(seq, target):\n",
    "    for i, value in enumerate(seq):\n",
    "        if value == target:\n",
    "            break\n",
    "    else:\n",
    "        return -1\n",
    "    return i"
   ]
  },
  {
   "cell_type": "code",
   "execution_count": null,
   "metadata": {
    "slideshow": {
     "slide_type": "fragment"
    }
   },
   "outputs": [],
   "source": [
    "# Simple. Easy to read. Easy to understand\n",
    "def find(seq, target):\n",
    "    for i, value  in enumerate(seq):\n",
    "        if value == target:\n",
    "            return i\n",
    "    return -1"
   ]
  },
  {
   "cell_type": "markdown",
   "metadata": {
    "slideshow": {
     "slide_type": "slide"
    }
   },
   "source": [
    "### Mutating while looping"
   ]
  },
  {
   "cell_type": "markdown",
   "metadata": {
    "pycharm": {
     "name": "#%% md\n"
    }
   },
   "source": [
    "__Guess the output__"
   ]
  },
  {
   "cell_type": "code",
   "execution_count": null,
   "metadata": {},
   "outputs": [],
   "source": [
    "numbers = [1,2,3,4,5]\n",
    "for number in numbers:\n",
    "    square = number**number\n",
    "    numbers.append(square)\n",
    "# print(numbers)"
   ]
  },
  {
   "cell_type": "markdown",
   "metadata": {
    "pycharm": {
     "name": "#%% md\n"
    },
    "slideshow": {
     "slide_type": "subslide"
    }
   },
   "source": [
    "__Make a copy__"
   ]
  },
  {
   "cell_type": "code",
   "execution_count": null,
   "metadata": {
    "pycharm": {
     "name": "#%%\n"
    },
    "slideshow": {
     "slide_type": "-"
    }
   },
   "outputs": [],
   "source": [
    "# Bad bad bad\n",
    "numbers = [1,2,3,4,5]\n",
    "numbers_copy = numbers\n",
    "for number in numbers_copy:\n",
    "    square = number**number\n",
    "    numbers_copy.append(square)\n",
    "# print(numbers_copy) "
   ]
  },
  {
   "cell_type": "code",
   "execution_count": null,
   "metadata": {
    "slideshow": {
     "slide_type": "fragment"
    }
   },
   "outputs": [],
   "source": [
    "# Now we are fine..?\n",
    "numbers = [1,2,3,4,5]\n",
    "for number in numbers.copy():\n",
    "    square = number**number\n",
    "    numbers.append(square)\n",
    "print(numbers)"
   ]
  },
  {
   "cell_type": "markdown",
   "metadata": {
    "pycharm": {
     "name": "#%% md\n"
    },
    "slideshow": {
     "slide_type": "slide"
    }
   },
   "source": [
    "### Copying"
   ]
  },
  {
   "cell_type": "markdown",
   "metadata": {
    "pycharm": {
     "name": "#%% md\n"
    }
   },
   "source": [
    "__So many variants. What should I choose?__"
   ]
  },
  {
   "cell_type": "code",
   "execution_count": null,
   "metadata": {
    "pycharm": {
     "name": "#%%\n"
    }
   },
   "outputs": [],
   "source": [
    "from copy import copy\n",
    "list_of_lists = [[1,2,3],[4,5,6]]\n",
    "copy1 = list_of_lists[:]\n",
    "copy2 = list_of_lists.copy()\n",
    "copy3 = copy(list_of_lists)\n",
    "print(list_of_lists, copy1, copy2, copy3, sep=\"\\n\")\n",
    "print(\"----------------\")"
   ]
  },
  {
   "cell_type": "markdown",
   "metadata": {
    "pycharm": {
     "name": "#%% md\n"
    },
    "slideshow": {
     "slide_type": "fragment"
    }
   },
   "source": [
    "__~That's fine~__"
   ]
  },
  {
   "cell_type": "code",
   "execution_count": null,
   "metadata": {
    "slideshow": {
     "slide_type": "fragment"
    }
   },
   "outputs": [],
   "source": [
    "# Look's like everything is broken\n",
    "list_of_lists[0].append(42)\n",
    "print(list_of_lists, copy1, copy2, copy3, sep=\"\\n\")"
   ]
  },
  {
   "cell_type": "markdown",
   "metadata": {
    "pycharm": {
     "name": "#%% md\n"
    },
    "slideshow": {
     "slide_type": "slide"
    }
   },
   "source": [
    "### Deepcopy"
   ]
  },
  {
   "cell_type": "code",
   "execution_count": null,
   "metadata": {
    "slideshow": {
     "slide_type": "fragment"
    }
   },
   "outputs": [],
   "source": [
    "from copy import deepcopy\n",
    "list_of_lists = [[1,2,3],[4,5,6]]\n",
    "copy1 = deepcopy(list_of_lists)\n",
    "list_of_lists[0].append(42)\n",
    "print(list_of_lists, copy1, sep=\"\\n\")"
   ]
  },
  {
   "cell_type": "markdown",
   "metadata": {
    "pycharm": {
     "name": "#%% md\n"
    }
   },
   "source": [
    "__Now that's fine!__"
   ]
  },
  {
   "cell_type": "markdown",
   "metadata": {
    "slideshow": {
     "slide_type": "slide"
    }
   },
   "source": [
    "### Sortings"
   ]
  },
  {
   "cell_type": "code",
   "execution_count": null,
   "metadata": {},
   "outputs": [],
   "source": [
    "# Bad bad bad\n",
    "colors = (\"red\", \"green\", \"blue\", \"yellow\")\n",
    "print(list(colors).sort())"
   ]
  },
  {
   "cell_type": "code",
   "execution_count": null,
   "metadata": {
    "scrolled": true
   },
   "outputs": [],
   "source": [
    "help(sorted)"
   ]
  },
  {
   "cell_type": "code",
   "execution_count": null,
   "metadata": {
    "slideshow": {
     "slide_type": "slide"
    }
   },
   "outputs": [],
   "source": [
    "# Without mutating\n",
    "colors = [\"red\", \"green\", \"blue\", \"yellow\"]\n",
    "print(sorted(colors))\n",
    "print(colors)"
   ]
  },
  {
   "cell_type": "code",
   "execution_count": null,
   "metadata": {
    "pycharm": {
     "name": "#%%\n"
    },
    "slideshow": {
     "slide_type": "fragment"
    }
   },
   "outputs": [],
   "source": [
    "# With mutating\n",
    "colors = [\"red\", \"green\", \"blue\", \"yellow\"]\n",
    "print(colors.sort())\n",
    "print(colors)"
   ]
  },
  {
   "cell_type": "code",
   "execution_count": null,
   "metadata": {
    "slideshow": {
     "slide_type": "subslide"
    }
   },
   "outputs": [],
   "source": [
    "# Bad\n",
    "def compare_len(item):\n",
    "    return len(item)\n",
    "print(sorted(colors, key=compare_len))"
   ]
  },
  {
   "cell_type": "code",
   "execution_count": null,
   "metadata": {
    "pycharm": {
     "name": "#%%\n"
    },
    "slideshow": {
     "slide_type": "fragment"
    }
   },
   "outputs": [],
   "source": [
    "# Good\n",
    "print(sorted(colors, key=len))"
   ]
  },
  {
   "cell_type": "markdown",
   "metadata": {
    "pycharm": {
     "name": "#%% md\n"
    },
    "slideshow": {
     "slide_type": "slide"
    }
   },
   "source": [
    "### Dict sorting"
   ]
  },
  {
   "cell_type": "markdown",
   "metadata": {
    "pycharm": {
     "name": "#%% md\n"
    },
    "slideshow": {
     "slide_type": "fragment"
    }
   },
   "source": [
    "__By key__"
   ]
  },
  {
   "cell_type": "code",
   "execution_count": null,
   "metadata": {
    "slideshow": {
     "slide_type": "-"
    }
   },
   "outputs": [],
   "source": [
    "some_dict = {4: \"one\", 2: \"two\", 3: \"three\", 1: \"four\"}\n",
    "sorted_dict = sorted(some_dict)\n",
    "print(sorted_dict)"
   ]
  },
  {
   "cell_type": "code",
   "execution_count": null,
   "metadata": {
    "pycharm": {
     "name": "#%%\n"
    },
    "slideshow": {
     "slide_type": "fragment"
    }
   },
   "outputs": [],
   "source": [
    "# Bad. Boring and slow\n",
    "sorted_dict = {}\n",
    "for key in sorted(some_dict):\n",
    "    sorted_dict[key] = some_dict[key]\n",
    "print(sorted_dict)"
   ]
  },
  {
   "cell_type": "code",
   "execution_count": null,
   "metadata": {
    "slideshow": {
     "slide_type": "fragment"
    }
   },
   "outputs": [],
   "source": [
    "# Pythonic\n",
    "print({key: some_dict[key] for key in sorted(some_dict)})"
   ]
  },
  {
   "cell_type": "markdown",
   "metadata": {
    "pycharm": {
     "name": "#%% md\n"
    },
    "slideshow": {
     "slide_type": "slide"
    }
   },
   "source": [
    "__By value__"
   ]
  },
  {
   "cell_type": "code",
   "execution_count": null,
   "metadata": {
    "pycharm": {
     "name": "#%%\n"
    },
    "slideshow": {
     "slide_type": "fragment"
    }
   },
   "outputs": [],
   "source": [
    "# Looks good. But is it good enough?\n",
    "print({key: some_dict[key] for key in sorted(some_dict, key=lambda x: some_dict[x])})"
   ]
  },
  {
   "cell_type": "code",
   "execution_count": null,
   "metadata": {
    "scrolled": true,
    "slideshow": {
     "slide_type": "fragment"
    }
   },
   "outputs": [],
   "source": [
    "# A little bit readable. But is it better?\n",
    "from operator import itemgetter\n",
    "print({key: value for key, value in sorted(some_dict.items(), key=itemgetter(1))})"
   ]
  },
  {
   "cell_type": "markdown",
   "metadata": {
    "slideshow": {
     "slide_type": "subslide"
    }
   },
   "source": [
    "__It's time to__ `timeit`"
   ]
  },
  {
   "cell_type": "code",
   "execution_count": null,
   "metadata": {
    "slideshow": {
     "slide_type": "fragment"
    }
   },
   "outputs": [],
   "source": [
    "from operator import itemgetter\n",
    "import random\n",
    "d = {random.random(): random.random() for i in range(1000)}"
   ]
  },
  {
   "cell_type": "code",
   "execution_count": null,
   "metadata": {
    "slideshow": {
     "slide_type": "-"
    }
   },
   "outputs": [],
   "source": [
    "%timeit {k: d[k] for k in sorted(d, key=lambda k: d[k])}"
   ]
  },
  {
   "cell_type": "code",
   "execution_count": null,
   "metadata": {},
   "outputs": [],
   "source": [
    "%timeit {k: v for k,v in sorted(d.items(), key=itemgetter(1))}"
   ]
  },
  {
   "cell_type": "code",
   "execution_count": null,
   "metadata": {
    "pycharm": {
     "name": "#%%\n"
    },
    "slideshow": {
     "slide_type": "subslide"
    }
   },
   "outputs": [],
   "source": [
    "# Sort by len of the second element\n",
    "# print({key: value for key, value in sorted(some_dict.items(), key=lambda x: len(itemgetter(1)))})\n",
    "print({key: value for key, value in sorted(some_dict.items(), key=lambda x: len(x[1]))})"
   ]
  },
  {
   "cell_type": "markdown",
   "metadata": {
    "pycharm": {
     "name": "#%% md\n"
    },
    "slideshow": {
     "slide_type": "slide"
    }
   },
   "source": [
    "### More dictionary skills"
   ]
  },
  {
   "cell_type": "code",
   "execution_count": null,
   "metadata": {},
   "outputs": [],
   "source": [
    "people = {'Alex': 'Black', 'Kate': 'White', 'Daniel': 'Brown', 'Rachel': 'Pink'}\n",
    "for key in people:\n",
    "    print(key, \"-->\", people[key])"
   ]
  },
  {
   "cell_type": "code",
   "execution_count": null,
   "metadata": {
    "slideshow": {
     "slide_type": "fragment"
    }
   },
   "outputs": [],
   "source": [
    "for key, value in people.items():\n",
    "    print(key, \"-->\", value)"
   ]
  },
  {
   "cell_type": "markdown",
   "metadata": {
    "pycharm": {
     "name": "#%% md\n"
    },
    "slideshow": {
     "slide_type": "slide"
    }
   },
   "source": [
    "__Construct a dictionary from pairs__"
   ]
  },
  {
   "cell_type": "code",
   "execution_count": null,
   "metadata": {},
   "outputs": [],
   "source": [
    "# Very long and boring. Not pythonic\n",
    "names = [\"Alex\", \"Kate\", \"Daniel\", \"Rachel\"]\n",
    "surnames = [\"Black\", \"White\", \"Brown\", \"Pink\"]\n",
    "people = {}\n",
    "for i in range(len(names)-1):\n",
    "    people[names[i]] = surnames[i]\n",
    "print(people)"
   ]
  },
  {
   "cell_type": "markdown",
   "metadata": {
    "pycharm": {
     "name": "#%% md\n"
    },
    "slideshow": {
     "slide_type": "fragment"
    }
   },
   "source": [
    "__How to make it better?__"
   ]
  },
  {
   "cell_type": "code",
   "execution_count": null,
   "metadata": {
    "pycharm": {
     "name": "#%%\n"
    },
    "slideshow": {
     "slide_type": "fragment"
    }
   },
   "outputs": [],
   "source": [
    "names = [\"Alex\", \"Kate\", \"Daniel\", \"Rachel\"]\n",
    "surnames = [\"Black\", \"White\", \"Brown\", \"Pink\"]\n",
    "people = {}\n",
    "for name, surname in zip(names, surnames):\n",
    "    people[name] = surname\n",
    "print(people)"
   ]
  },
  {
   "cell_type": "markdown",
   "metadata": {
    "pycharm": {
     "name": "#%% md\n"
    },
    "slideshow": {
     "slide_type": "subslide"
    }
   },
   "source": [
    "__Use pythonic dict comprehensions instead__"
   ]
  },
  {
   "cell_type": "code",
   "execution_count": null,
   "metadata": {
    "pycharm": {
     "name": "#%%\n"
    }
   },
   "outputs": [],
   "source": [
    "# Good\n",
    "people = {name: surname for name, surname in zip(names, surnames)}\n",
    "print(people)"
   ]
  },
  {
   "cell_type": "code",
   "execution_count": null,
   "metadata": {
    "slideshow": {
     "slide_type": "subslide"
    }
   },
   "outputs": [],
   "source": [
    "# Great\n",
    "people = dict(zip(names, surnames))\n",
    "print(people)"
   ]
  },
  {
   "cell_type": "code",
   "execution_count": null,
   "metadata": {
    "pycharm": {
     "name": "#%%\n"
    },
    "slideshow": {
     "slide_type": "fragment"
    }
   },
   "outputs": [],
   "source": [
    "people = dict.fromkeys(names, \"----\")\n",
    "print(people)"
   ]
  },
  {
   "cell_type": "code",
   "execution_count": null,
   "metadata": {
    "slideshow": {
     "slide_type": "fragment"
    }
   },
   "outputs": [],
   "source": [
    "people = dict(enumerate(names))\n",
    "print(people)"
   ]
  },
  {
   "cell_type": "markdown",
   "metadata": {
    "slideshow": {
     "slide_type": "slide"
    }
   },
   "source": [
    "### Counting items\n"
   ]
  },
  {
   "cell_type": "code",
   "execution_count": null,
   "metadata": {},
   "outputs": [],
   "source": [
    "# Most of you was like:\n",
    "colors = [\"red\", \"green\", \"red\", \"blue\", \"green\", \"red\"]\n",
    "counter = {}\n",
    "for color in colors:\n",
    "    if color not in counter:\n",
    "        counter[color] = 1\n",
    "    else:\n",
    "        counter[color] += 1\n",
    "print(counter)"
   ]
  },
  {
   "cell_type": "code",
   "execution_count": null,
   "metadata": {
    "pycharm": {
     "name": "#%%\n"
    },
    "slideshow": {
     "slide_type": "subslide"
    }
   },
   "outputs": [],
   "source": [
    "# Much better: remove reduntant if and make it more simple\n",
    "colors = [\"red\", \"green\", \"red\", \"blue\", \"green\", \"red\"]\n",
    "counter = {}\n",
    "for color in colors:\n",
    "    counter[color] = counter.get(color, 0) + 1\n",
    "print(counter)"
   ]
  },
  {
   "cell_type": "markdown",
   "metadata": {
    "pycharm": {
     "name": "#%% md\n"
    },
    "slideshow": {
     "slide_type": "subslide"
    }
   },
   "source": [
    "__Power of__ `collections` __module__ [docs](https://docs.python.org/3/library/collections.html)"
   ]
  },
  {
   "cell_type": "code",
   "execution_count": null,
   "metadata": {
    "slideshow": {
     "slide_type": "fragment"
    }
   },
   "outputs": [],
   "source": [
    "from collections import defaultdict\n",
    "counter = defaultdict(int)\n",
    "for color in colors:\n",
    "    counter[color] += 1\n",
    "print(counter)"
   ]
  },
  {
   "cell_type": "code",
   "execution_count": null,
   "metadata": {
    "slideshow": {
     "slide_type": "subslide"
    }
   },
   "outputs": [],
   "source": [
    "d = defaultdict(list)\n",
    "names = [\"raymond\", \"rachel\", \"matthew\", \"roger\", \"betty\", \"melissa\", \"judith\", \"charlie\"]\n",
    "for name in names:\n",
    "    d[len(name)].append(name)\n",
    "print(d)"
   ]
  },
  {
   "cell_type": "code",
   "execution_count": null,
   "metadata": {
    "slideshow": {
     "slide_type": "fragment"
    }
   },
   "outputs": [],
   "source": [
    "d = defaultdict(dict)\n",
    "d[\"first\"][\"second\"] = \"value\"\n",
    "print(d)"
   ]
  },
  {
   "cell_type": "code",
   "execution_count": null,
   "metadata": {
    "pycharm": {
     "name": "#%%\n"
    },
    "slideshow": {
     "slide_type": "fragment"
    }
   },
   "outputs": [],
   "source": [
    "from collections import Counter\n",
    "colors = [\"red\", \"green\", \"red\", \"blue\", \"green\", \"red\"]\n",
    "c = Counter(colors)\n",
    "print(c)"
   ]
  },
  {
   "cell_type": "markdown",
   "metadata": {
    "pycharm": {
     "name": "#%% md\n"
    },
    "slideshow": {
     "slide_type": "slide"
    }
   },
   "source": [
    "### Merging dictionaries"
   ]
  },
  {
   "cell_type": "code",
   "execution_count": null,
   "metadata": {
    "pycharm": {
     "name": "#%%\n"
    }
   },
   "outputs": [],
   "source": [
    "first = {1: \"one\", 2: \"two\", 3: \"three\"}\n",
    "second = {4: \"four\", 5: \"five\", 6: \"six\"}\n",
    "third = {7: \"seven\", 8: \"eight\", 9: \"nine\"}"
   ]
  },
  {
   "cell_type": "markdown",
   "metadata": {
    "pycharm": {
     "name": "#%% md\n"
    },
    "slideshow": {
     "slide_type": "fragment"
    }
   },
   "source": [
    "__Common way__"
   ]
  },
  {
   "cell_type": "code",
   "execution_count": null,
   "metadata": {
    "slideshow": {
     "slide_type": "fragment"
    }
   },
   "outputs": [],
   "source": [
    "# Boring and slow\n",
    "new_dict = dict(first) # or first.copy()\n",
    "new_dict.update(second)\n",
    "new_dict.update(third)\n",
    "print(new_dict)"
   ]
  },
  {
   "cell_type": "markdown",
   "metadata": {
    "slideshow": {
     "slide_type": "subslide"
    }
   },
   "source": [
    "__Modern way (Python 3.5+)__"
   ]
  },
  {
   "cell_type": "code",
   "execution_count": null,
   "metadata": {
    "slideshow": {
     "slide_type": "-"
    }
   },
   "outputs": [],
   "source": [
    "new_dict = {**first, **second, **third}\n",
    "print(new_dict)"
   ]
  },
  {
   "cell_type": "markdown",
   "metadata": {
    "pycharm": {
     "name": "#%% md\n"
    },
    "slideshow": {
     "slide_type": "subslide"
    }
   },
   "source": [
    "__Modernest way (Python 3.9)__"
   ]
  },
  {
   "cell_type": "code",
   "execution_count": null,
   "metadata": {},
   "outputs": [],
   "source": [
    "new_dict = first | second | third\n",
    "print(new_dict)"
   ]
  },
  {
   "cell_type": "markdown",
   "metadata": {
    "pycharm": {
     "name": "#%% md\n"
    },
    "slideshow": {
     "slide_type": "slide"
    }
   },
   "source": [
    "### Unpacking"
   ]
  },
  {
   "cell_type": "code",
   "execution_count": null,
   "metadata": {
    "pycharm": {
     "name": "#%%\n"
    },
    "slideshow": {
     "slide_type": "-"
    }
   },
   "outputs": [],
   "source": [
    "# Very bad\n",
    "person = \"Alex\", \"Black\", 22, \"fake_mail@gmail.com\"\n",
    "name = person[0]\n",
    "sname = person[1]\n",
    "age = person[2]\n",
    "email = person[3]"
   ]
  },
  {
   "cell_type": "code",
   "execution_count": null,
   "metadata": {
    "slideshow": {
     "slide_type": "fragment"
    }
   },
   "outputs": [],
   "source": [
    "# Good and pythonic\n",
    "name, sname, age, email = person\n",
    "print(name, sname, age, email)"
   ]
  },
  {
   "cell_type": "code",
   "execution_count": null,
   "metadata": {
    "slideshow": {
     "slide_type": "fragment"
    }
   },
   "outputs": [],
   "source": [
    "a, *b, c = range(10)\n",
    "print(a, b, c)"
   ]
  },
  {
   "cell_type": "code",
   "execution_count": null,
   "metadata": {
    "slideshow": {
     "slide_type": "fragment"
    }
   },
   "outputs": [],
   "source": [
    "name, sname, *_ = person\n",
    "print(name, sname)    "
   ]
  },
  {
   "cell_type": "markdown",
   "metadata": {
    "pycharm": {
     "name": "#%% md\n"
    },
    "slideshow": {
     "slide_type": "slide"
    }
   },
   "source": [
    "### Concatenating strings"
   ]
  },
  {
   "cell_type": "code",
   "execution_count": null,
   "metadata": {
    "pycharm": {
     "name": "#%%\n"
    }
   },
   "outputs": [],
   "source": [
    "# Why is this so bad?\n",
    "strings = [\"this\", \"list\", \"contains\", \"so\", \"many\", \"strings\"]\n",
    "s = \"\"\n",
    "for string in strings:\n",
    "    s += string + \" \"\n",
    "print(s)"
   ]
  },
  {
   "cell_type": "markdown",
   "metadata": {
    "pycharm": {
     "name": "#%% md\n"
    },
    "slideshow": {
     "slide_type": "fragment"
    }
   },
   "source": [
    "__This is job for__ `join`"
   ]
  },
  {
   "cell_type": "code",
   "execution_count": null,
   "metadata": {
    "slideshow": {
     "slide_type": "-"
    }
   },
   "outputs": [],
   "source": [
    "\", \".join(strings)"
   ]
  },
  {
   "cell_type": "code",
   "execution_count": null,
   "metadata": {
    "pycharm": {
     "name": "#%%\n"
    },
    "slideshow": {
     "slide_type": "fragment"
    }
   },
   "outputs": [],
   "source": [
    "\" \".join(str(i) for i in range(10))"
   ]
  },
  {
   "cell_type": "markdown",
   "metadata": {
    "pycharm": {
     "name": "#%% md\n"
    },
    "slideshow": {
     "slide_type": "slide"
    }
   },
   "source": [
    "### Updating sequences"
   ]
  },
  {
   "cell_type": "code",
   "execution_count": null,
   "metadata": {},
   "outputs": [],
   "source": [
    "strings = [\"this\", \"list\", \"contains\", \"so\", \"many\", \"strings\"]\n",
    "strings.pop()\n",
    "strings.insert(0, \"new one\")\n",
    "print(strings)"
   ]
  },
  {
   "cell_type": "code",
   "execution_count": null,
   "metadata": {
    "slideshow": {
     "slide_type": "fragment"
    }
   },
   "outputs": [],
   "source": [
    "from collections import deque\n",
    "strings = deque([\"this\", \"list\", \"contains\", \"so\", \"many\", \"strings\"])\n",
    "strings.popleft()\n",
    "strings.appendleft(\"new one\")\n",
    "print(strings)"
   ]
  },
  {
   "cell_type": "code",
   "execution_count": null,
   "metadata": {
    "pycharm": {
     "name": "#%%\n"
    },
    "slideshow": {
     "slide_type": "fragment"
    }
   },
   "outputs": [],
   "source": [
    "l = list(range(1_000_000))\n",
    "d = deque(range(1_000_000))"
   ]
  },
  {
   "cell_type": "code",
   "execution_count": null,
   "metadata": {
    "pycharm": {
     "is_executing": true
    }
   },
   "outputs": [],
   "source": [
    "%timeit l.pop(0); l.insert(0, 42)"
   ]
  },
  {
   "cell_type": "code",
   "execution_count": null,
   "metadata": {
    "pycharm": {
     "is_executing": true,
     "name": "#%%\n"
    },
    "slideshow": {
     "slide_type": "-"
    }
   },
   "outputs": [],
   "source": [
    "%timeit d.popleft(); d.appendleft(42)"
   ]
  },
  {
   "cell_type": "code",
   "execution_count": null,
   "metadata": {
    "pycharm": {
     "is_executing": true
    },
    "slideshow": {
     "slide_type": "fragment"
    }
   },
   "outputs": [],
   "source": [
    "%timeit l.pop(); l.append(42)"
   ]
  },
  {
   "cell_type": "code",
   "execution_count": null,
   "metadata": {
    "pycharm": {
     "is_executing": true,
     "name": "#%%\n"
    }
   },
   "outputs": [],
   "source": [
    "%timeit d.pop(); d.append(42)"
   ]
  },
  {
   "cell_type": "markdown",
   "metadata": {
    "pycharm": {
     "name": "#%% md\n"
    },
    "slideshow": {
     "slide_type": "slide"
    }
   },
   "source": [
    "### `else` is everywhere"
   ]
  },
  {
   "cell_type": "code",
   "execution_count": null,
   "metadata": {
    "pycharm": {
     "is_executing": true,
     "name": "#%%\n"
    },
    "slideshow": {
     "slide_type": "fragment"
    }
   },
   "outputs": [],
   "source": [
    "if True is True:\n",
    "    print(\"That's True\")\n",
    "else:\n",
    "    print(\"Looks like this is False\")"
   ]
  },
  {
   "cell_type": "code",
   "execution_count": null,
   "metadata": {
    "pycharm": {
     "is_executing": true
    },
    "slideshow": {
     "slide_type": "fragment"
    }
   },
   "outputs": [],
   "source": [
    "from random import randint\n",
    "a = 50\n",
    "i = 0\n",
    "while i < 100:\n",
    "    i += 1\n",
    "    a += randint(0, 1)\n",
    "    if i > a:\n",
    "        print(\"we catched the `a`\")\n",
    "        break\n",
    "else:\n",
    "    print(\"`a` wasn't reached\")"
   ]
  },
  {
   "cell_type": "code",
   "execution_count": null,
   "metadata": {
    "pycharm": {
     "is_executing": true
    },
    "slideshow": {
     "slide_type": "subslide"
    }
   },
   "outputs": [],
   "source": [
    "import requests\n",
    "try:\n",
    "    recieved_data = requests.get(\"https://google.com\").content\n",
    "except Exception as e:\n",
    "    recieved_data = None\n",
    "    print(f\"Ooops. We got some problems here: {e}\")\n",
    "\n",
    "if recieved_data:\n",
    "    # some actions with data\n",
    "    print(\"That's fine\")"
   ]
  },
  {
   "cell_type": "code",
   "execution_count": null,
   "metadata": {
    "pycharm": {
     "is_executing": true
    },
    "slideshow": {
     "slide_type": "fragment"
    }
   },
   "outputs": [],
   "source": [
    "try:\n",
    "    recieved_data = requests.get(\"https://google.com\").content\n",
    "except Exception as e:\n",
    "    print(f\"Ooops. We got some problems here: {e}\")\n",
    "else:\n",
    "    # only when no exception was raised\n",
    "    print(len(recieved_data))\n",
    "finally:\n",
    "    print(\"That block is executed always\")"
   ]
  },
  {
   "cell_type": "markdown",
   "metadata": {
    "slideshow": {
     "slide_type": "slide"
    }
   },
   "source": [
    "### Excessive nesting"
   ]
  },
  {
   "cell_type": "code",
   "execution_count": null,
   "metadata": {
    "pycharm": {
     "is_executing": true
    },
    "slideshow": {
     "slide_type": "-"
    }
   },
   "outputs": [],
   "source": [
    "def some_usefull_func(a, b , c):\n",
    "    if c:\n",
    "        # a lot of line of code\n",
    "        # there can be if conditions too\n",
    "        result = (a**4 + b//3)*42\n",
    "        result += c\n",
    "        return result\n",
    "    \n",
    "    return None"
   ]
  },
  {
   "cell_type": "code",
   "execution_count": null,
   "metadata": {
    "pycharm": {
     "is_executing": true
    },
    "slideshow": {
     "slide_type": "fragment"
    }
   },
   "outputs": [],
   "source": [
    "# Flat is better than nested.\n",
    "def some_usefull_func(a, b , c):\n",
    "    if not c:\n",
    "        return None\n",
    "    \n",
    "    # do other stuff here"
   ]
  },
  {
   "cell_type": "markdown",
   "metadata": {
    "pycharm": {
     "name": "#%% md\n"
    },
    "slideshow": {
     "slide_type": "subslide"
    }
   },
   "source": [
    "__Merge nested if conditions__"
   ]
  },
  {
   "cell_type": "code",
   "execution_count": null,
   "metadata": {
    "pycharm": {
     "is_executing": true
    }
   },
   "outputs": [],
   "source": [
    "# Bad\n",
    "expr1, expr2, expr3 = True, True, True\n",
    "if expr1:\n",
    "    if expr2:\n",
    "        print(\"1 and 2\")\n",
    "    if expr3:\n",
    "        print(\"1 and 3\")"
   ]
  },
  {
   "cell_type": "code",
   "execution_count": null,
   "metadata": {
    "pycharm": {
     "is_executing": true
    },
    "slideshow": {
     "slide_type": "fragment"
    }
   },
   "outputs": [],
   "source": [
    "# Flat is better than nested.\n",
    "if expr1 and expr2:\n",
    "    print(\"1 and 2\")\n",
    "if expr1 and expr3:\n",
    "    print(\"1 and 3\")"
   ]
  },
  {
   "cell_type": "code",
   "execution_count": null,
   "metadata": {
    "pycharm": {
     "is_executing": true,
     "name": "#%%\n"
    },
    "slideshow": {
     "slide_type": "fragment"
    }
   },
   "outputs": [],
   "source": [
    "# How to make it better?\n",
    "currency = \"USD\"\n",
    "if currency == \"USD\" or currency == \"EUR\" or currency == \"JPY\":\n",
    "    print(\"I am rich beach\")\n",
    "if currency in (\"USD\", \"EUR\", \"JPY\"):\n",
    "    ..."
   ]
  },
  {
   "cell_type": "markdown",
   "metadata": {
    "pycharm": {
     "name": "#%% md\n"
    },
    "slideshow": {
     "slide_type": "slide"
    }
   },
   "source": [
    "### if else one liner"
   ]
  },
  {
   "cell_type": "code",
   "execution_count": null,
   "metadata": {
    "pycharm": {
     "is_executing": true,
     "name": "#%%\n"
    }
   },
   "outputs": [],
   "source": [
    "class Animal:\n",
    "    def __init__(self):\n",
    "        name = \"\"\n",
    "        \n",
    "class Dog(Animal):\n",
    "    ...\n",
    "class Cat(Animal):\n",
    "    ...\n",
    "\n",
    "animal = Dog()\n",
    "if isinstance(animal, Dog):\n",
    "    animal.name = \"Шарик\"\n",
    "else:\n",
    "    animal.name = \"Барсик\"\n",
    "print(animal.name)"
   ]
  },
  {
   "cell_type": "markdown",
   "metadata": {
    "pycharm": {
     "name": "#%% md\n"
    },
    "slideshow": {
     "slide_type": "fragment"
    }
   },
   "source": [
    "```z = (x > y) ? z : y;```"
   ]
  },
  {
   "cell_type": "code",
   "execution_count": null,
   "metadata": {
    "pycharm": {
     "is_executing": true,
     "name": "#%%\n"
    }
   },
   "outputs": [],
   "source": [
    "animal.name = \"Шарик\" if isinstance(animal, Dog) else \"Барсик\"\n",
    "print(animal.name)"
   ]
  },
  {
   "cell_type": "markdown",
   "metadata": {
    "slideshow": {
     "slide_type": "slide"
    }
   },
   "source": [
    "### Let's solve the simple task"
   ]
  },
  {
   "cell_type": "code",
   "execution_count": null,
   "metadata": {
    "pycharm": {
     "is_executing": true,
     "name": "#%%\n"
    }
   },
   "outputs": [],
   "source": [
    "wardrobe = [\"pants\", \"dress\", \"shoes\", \"hat\", \"shirt\", \"coat\", \"tie\", \"suit\"]\n",
    "def is_hat(item):\n",
    "    return item == \"hat\"\n",
    "\n",
    "for item in wardrobe:\n",
    "    if is_hat(item):\n",
    "        print(True)\n",
    "        \n",
    "# answer = bool(list(filter(is_hat, wardrobe)))\n",
    "answer = any(map(is_hat, wardrobe))\n",
    "print(answer)\n",
    "# hat_in_wardrobe??"
   ]
  },
  {
   "cell_type": "markdown",
   "metadata": {
    "slideshow": {
     "slide_type": "slide"
    }
   },
   "source": [
    "### Simplify conditional into return statement"
   ]
  },
  {
   "cell_type": "code",
   "execution_count": null,
   "metadata": {
    "pycharm": {
     "is_executing": true,
     "name": "#%%\n"
    }
   },
   "outputs": [],
   "source": [
    "def check_mutiple_inheritance(obj, first_class, second_class):\n",
    "    if isinstance(obj, first_class) and isinstance(obj, second_class):\n",
    "        return True\n",
    "    return False"
   ]
  },
  {
   "cell_type": "code",
   "execution_count": null,
   "metadata": {
    "pycharm": {
     "is_executing": true,
     "name": "#%%\n"
    },
    "slideshow": {
     "slide_type": "fragment"
    }
   },
   "outputs": [],
   "source": [
    "def check_mutiple_inheritance(obj, *args):\n",
    "    return isinstance(obj, first_class) and isinstance(obj, second_class)\n",
    "    return all(map(lambda obj: isinstance(obj), args)"
   ]
  },
  {
   "cell_type": "code",
   "execution_count": null,
   "metadata": {
    "pycharm": {
     "is_executing": true,
     "name": "#%%\n"
    },
    "slideshow": {
     "slide_type": "subslide"
    }
   },
   "outputs": [],
   "source": [
    "# Not good, how to make it better?\n",
    "def check_args_not_empty(a: list, b: str):\n",
    "    if len(a) > 0 and len(b) > 0:\n",
    "        return True\n",
    "    return False\n",
    "\n",
    "print(check_args_not_empty([1,2,3], \"string\"))"
   ]
  },
  {
   "cell_type": "code",
   "execution_count": null,
   "metadata": {
    "pycharm": {
     "is_executing": true,
     "name": "#%%\n"
    },
    "slideshow": {
     "slide_type": "fragment"
    }
   },
   "outputs": [],
   "source": [
    "def check_args_not_empty(a: list, b: str):\n",
    "    if a and b:\n",
    "        return True\n",
    "    return False\n",
    "\n",
    "print(check_args_not_empty([1,2,3], \"string\"))"
   ]
  },
  {
   "cell_type": "code",
   "execution_count": null,
   "metadata": {
    "pycharm": {
     "is_executing": true,
     "name": "#%%\n"
    },
    "slideshow": {
     "slide_type": "fragment"
    }
   },
   "outputs": [],
   "source": [
    "def check_args_not_empty(a: list, b: str):\n",
    "    return(a and b)\n",
    "\n",
    "print(check_args_not_empty([1,2,3], \"string\"))"
   ]
  },
  {
   "cell_type": "code",
   "execution_count": null,
   "metadata": {
    "pycharm": {
     "is_executing": true,
     "name": "#%%\n"
    },
    "slideshow": {
     "slide_type": "fragment"
    }
   },
   "outputs": [],
   "source": [
    "def check_args_not_empty(a: list, b: str):\n",
    "    return bool(a and b)\n",
    "\n",
    "print(check_args_not_empty([1,2,3], \"string\"))"
   ]
  },
  {
   "cell_type": "markdown",
   "metadata": {
    "slideshow": {
     "slide_type": "slide"
    }
   },
   "source": [
    "### Python is lazy"
   ]
  },
  {
   "cell_type": "code",
   "execution_count": null,
   "metadata": {
    "pycharm": {
     "is_executing": true,
     "name": "#%%\n"
    },
    "slideshow": {
     "slide_type": "fragment"
    }
   },
   "outputs": [],
   "source": [
    "var = \"\" or [1,2,3] or 12\n",
    "tmp = \"\" or 0 or False\n",
    "print(var)\n",
    "print(tmp)\n",
    "\n",
    "def f(a: list = None):\n",
    "    a = a or []\n",
    "    a.append(42)\n",
    "    "
   ]
  },
  {
   "cell_type": "code",
   "execution_count": null,
   "metadata": {
    "pycharm": {
     "is_executing": true
    },
    "slideshow": {
     "slide_type": "fragment"
    }
   },
   "outputs": [],
   "source": [
    "if fast_expr or less_fast_expr or long_expr:\n",
    "    print(\"Any of them\")\n",
    "if any((fast_expr,less_fast_expr,long_expr)):\n",
    "    ..."
   ]
  },
  {
   "cell_type": "code",
   "execution_count": null,
   "metadata": {
    "pycharm": {
     "is_executing": true,
     "name": "#%%\n"
    },
    "slideshow": {
     "slide_type": "-"
    }
   },
   "outputs": [],
   "source": [
    "if fast_expr and less_fast_expr and long_expr:\n",
    "    print(\"All of them\")\n",
    "if all((fast_expr,less_fast_expr,long_expr)):\n",
    "    ..."
   ]
  },
  {
   "cell_type": "code",
   "execution_count": null,
   "metadata": {
    "pycharm": {
     "is_executing": true,
     "name": "#%%\n"
    },
    "slideshow": {
     "slide_type": "subslide"
    }
   },
   "outputs": [],
   "source": [
    "class Suit:\n",
    "    def __init__(self, color=None):\n",
    "        self.color  = color\n",
    "\n",
    "class Person:\n",
    "    def __init__(self, suit=None):\n",
    "        self.suit = suit\n",
    "\n",
    "person = Person()\n",
    "print(person.suit.color)\n",
    "if person and person.suit and person.suit.color:\n",
    "    print(person.suit.color.name)"
   ]
  },
  {
   "cell_type": "code",
   "execution_count": null,
   "metadata": {
    "pycharm": {
     "is_executing": true
    }
   },
   "outputs": [],
   "source": []
  }
 ],
 "metadata": {
  "celltoolbar": "Слайд-шоу",
  "kernelspec": {
   "display_name": "Python 3",
   "language": "python",
   "name": "python3"
  },
  "language_info": {
   "codemirror_mode": {
    "name": "ipython",
    "version": 3
   },
   "file_extension": ".py",
   "mimetype": "text/x-python",
   "name": "python",
   "nbconvert_exporter": "python",
   "pygments_lexer": "ipython3",
   "version": "3.9.4"
  }
 },
 "nbformat": 4,
 "nbformat_minor": 4
}